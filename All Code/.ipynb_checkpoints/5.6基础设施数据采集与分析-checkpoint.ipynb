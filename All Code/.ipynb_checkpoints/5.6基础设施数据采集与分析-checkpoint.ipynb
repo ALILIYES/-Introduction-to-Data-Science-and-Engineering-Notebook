{
 "cells": [
  {
   "cell_type": "code",
   "execution_count": 1,
   "metadata": {
    "scrolled": true
   },
   "outputs": [
    {
     "data": {
      "text/plain": [
       "scputimes(user=78756.85, nice=0.0, system=46130.54, idle=1366801.29)"
      ]
     },
     "execution_count": 1,
     "metadata": {},
     "output_type": "execute_result"
    }
   ],
   "source": [
    "import psutil\n",
    "psutil.cpu_times(percpu = False)"
   ]
  },
  {
   "cell_type": "markdown",
   "metadata": {},
   "source": [
    "用户进程、内核进程、CPU空闲时间"
   ]
  },
  {
   "cell_type": "code",
   "execution_count": 2,
   "metadata": {},
   "outputs": [
    {
     "data": {
      "text/plain": [
       "scpustats(ctx_switches=5626, interrupts=86651, soft_interrupts=199519108, syscalls=117252)"
      ]
     },
     "execution_count": 2,
     "metadata": {},
     "output_type": "execute_result"
    }
   ],
   "source": [
    "psutil.cpu_stats()"
   ]
  },
  {
   "cell_type": "code",
   "execution_count": 3,
   "metadata": {},
   "outputs": [
    {
     "data": {
      "text/plain": [
       "svmem(total=8589934592, available=503431168, percent=94.1, used=841658368, free=14966784, active=471851008, inactive=480231424, wired=369807360)"
      ]
     },
     "execution_count": 3,
     "metadata": {},
     "output_type": "execute_result"
    }
   ],
   "source": [
    "psutil.virtual_memory()"
   ]
  },
  {
   "cell_type": "code",
   "execution_count": 4,
   "metadata": {},
   "outputs": [
    {
     "data": {
      "text/plain": [
       "sdiskio(read_count=14756788, write_count=5232901, read_bytes=489445777408, write_bytes=143355809792, read_time=7452856, write_time=510613)"
      ]
     },
     "execution_count": 4,
     "metadata": {},
     "output_type": "execute_result"
    }
   ],
   "source": [
    "psutil.disk_io_counters()"
   ]
  },
  {
   "cell_type": "code",
   "execution_count": 5,
   "metadata": {},
   "outputs": [
    {
     "data": {
      "text/plain": [
       "snetio(bytes_sent=6638370816, bytes_recv=3772474368, packets_sent=10350429, packets_recv=10132702, errin=0, errout=4564, dropin=0, dropout=0)"
      ]
     },
     "execution_count": 5,
     "metadata": {},
     "output_type": "execute_result"
    }
   ],
   "source": [
    "psutil.net_io_counters()"
   ]
  },
  {
   "cell_type": "code",
   "execution_count": 6,
   "metadata": {},
   "outputs": [],
   "source": [
    "def slowest_replace(original_str):\n",
    "    '''替换函数1:列表保存字符串'''\n",
    "    replace_list = []\n",
    "    for i,char in enumerate(original_str):\n",
    "        c = char if char != \" \" else \"-\"\n",
    "        replace_list.append(c)\n",
    "    return \"\".join(replace_list)"
   ]
  },
  {
   "cell_type": "code",
   "execution_count": 7,
   "metadata": {},
   "outputs": [],
   "source": [
    "def slow_replace(original_str):\n",
    "    '''替换函数2:字符串保存字符串'''\n",
    "    replace_str = \"\"\n",
    "    for i,char in enumerate(original_str):\n",
    "        c = char if char != \" \" else \"-\"\n",
    "        replace_str += c\n",
    "    return replace_str\n"
   ]
  },
  {
   "cell_type": "code",
   "execution_count": 8,
   "metadata": {},
   "outputs": [],
   "source": [
    "def fast_replace(original_str):\n",
    "    \"替换函数3:直接split划分\"\n",
    "    return \"-\".join(original_str.split())"
   ]
  },
  {
   "cell_type": "code",
   "execution_count": 9,
   "metadata": {},
   "outputs": [],
   "source": [
    "def fastest_replace(original_str):\n",
    "    \"替换函数4:自带replace函数替换\"\n",
    "    return original_str.replace(\" \",\"-\")"
   ]
  },
  {
   "cell_type": "code",
   "execution_count": 10,
   "metadata": {},
   "outputs": [
    {
     "name": "stdout",
     "output_type": "stream",
     "text": [
      "hello-world-ha-ha-ha-ha-ha-ha-ha\n",
      "slowest_replace: 6.4849853515625e-05 s\n",
      "hello-world-ha-ha-ha-ha-ha-ha-ha\n",
      "slow_replace: 3.981590270996094e-05 s\n",
      "hello-world-ha-ha-ha-ha-ha-ha-ha\n",
      "fast_replace: 3.790855407714844e-05 s\n",
      "hello-world-ha-ha-ha-ha-ha-ha-ha\n",
      "fastest_replace: 3.504753112792969e-05 s\n"
     ]
    }
   ],
   "source": [
    "'''性能测试'''\n",
    "from time import *\n",
    "\n",
    "original_str = \"hello world ha ha ha ha ha ha ha\"\n",
    "\n",
    "time_start = time()\n",
    "print(slowest_replace(original_str))\n",
    "time_end = time()\n",
    "print(\"slowest_replace:\",time_end-time_start,\"s\")\n",
    "\n",
    "time_start = time()\n",
    "print(slow_replace(original_str))\n",
    "time_end = time()\n",
    "print(\"slow_replace:\",time_end-time_start,\"s\")\n",
    "\n",
    "time_start = time()\n",
    "print(fast_replace(original_str))\n",
    "time_end = time()\n",
    "print(\"fast_replace:\",time_end-time_start,\"s\")\n",
    "\n",
    "time_start = time()\n",
    "print(fastest_replace(original_str))\n",
    "time_end = time()\n",
    "print(\"fastest_replace:\",time_end-time_start,\"s\")"
   ]
  }
 ],
 "metadata": {
  "interpreter": {
   "hash": "9da37f67d9ec82e0dc2b5dad45259b73e5c7fcad9628f58cfdd0cadb3da29f92"
  },
  "kernelspec": {
   "display_name": "Python 3",
   "language": "python",
   "name": "python3"
  },
  "language_info": {
   "codemirror_mode": {
    "name": "ipython",
    "version": 3
   },
   "file_extension": ".py",
   "mimetype": "text/x-python",
   "name": "python",
   "nbconvert_exporter": "python",
   "pygments_lexer": "ipython3",
   "version": "3.8.8"
  }
 },
 "nbformat": 4,
 "nbformat_minor": 2
}
